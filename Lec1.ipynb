# Arrays
import numpy as np
#a. create a 1D array
arr = np.array([1, 2, 3, 4, 5])

#b. create a 2D array
arr_2d = np.array([[1,2,3,4],[5,6,7,8],[9,10,11,12]])

#c. creating an empty array
arr_empty = np.empty([3, 4])

#d. creating an array with all 0s
arr_zeros = np.zeros([3, 4])

#e. printing the shape of the array
print ('The shape of the array is')
print(arr_2d.shape)

#f. Slicing elements in an array from index -5 to -2
numbers = [1,2,3,4,5,6,7,8,9]
print(numbers[-5:-2])

